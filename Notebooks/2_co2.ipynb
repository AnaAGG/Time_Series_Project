{
 "cells": [
  {
   "cell_type": "code",
   "execution_count": 1,
   "id": "6806e69c",
   "metadata": {},
   "outputs": [],
   "source": [
    "import sys\n",
    "sys.path.append('../')\n",
    "\n",
    "import pandas as pd\n",
    "import src.cleaning as cl"
   ]
  },
  {
   "cell_type": "markdown",
   "id": "a48cd047",
   "metadata": {},
   "source": [
    "# General info"
   ]
  },
  {
   "cell_type": "markdown",
   "id": "72876aba",
   "metadata": {},
   "source": [
    "The CO₂ gives us the average CO₂ emissions (in metric tons) per person. The dataset is divided up by countries and other categories such as ‘World’ or ‘Upper middle income’, in this tutorial we are only interested in ‘World’ as we are looking at things on a global scale.\n",
    "\n",
    "For more info [here](https://data.worldbank.org/indicator/EN.ATM.CO2E.PC)"
   ]
  },
  {
   "cell_type": "markdown",
   "id": "c81f97ec",
   "metadata": {},
   "source": [
    "https://towardsdatascience.com/time-series-analysis-and-climate-change-7bb4371021e"
   ]
  },
  {
   "cell_type": "code",
   "execution_count": 11,
   "id": "d69b01b9",
   "metadata": {},
   "outputs": [],
   "source": [
    "co2 = pd.read_csv(\"../Data/registro.csv\", encoding = \"ISO-8859-1\",  engine='python') # tmbien acepta latin1\n",
    "x = co2.columns[2]"
   ]
  },
  {
   "cell_type": "code",
   "execution_count": 8,
   "id": "5c502504",
   "metadata": {},
   "outputs": [],
   "source": [
    "df = cl.cleaning_co2_data(co2)"
   ]
  },
  {
   "cell_type": "code",
   "execution_count": 9,
   "id": "f3c56897",
   "metadata": {},
   "outputs": [
    {
     "data": {
      "text/html": [
       "<div>\n",
       "<style scoped>\n",
       "    .dataframe tbody tr th:only-of-type {\n",
       "        vertical-align: middle;\n",
       "    }\n",
       "\n",
       "    .dataframe tbody tr th {\n",
       "        vertical-align: top;\n",
       "    }\n",
       "\n",
       "    .dataframe thead th {\n",
       "        text-align: right;\n",
       "    }\n",
       "</style>\n",
       "<table border=\"1\" class=\"dataframe\">\n",
       "  <thead>\n",
       "    <tr style=\"text-align: right;\">\n",
       "      <th></th>\n",
       "      <th>Country Name</th>\n",
       "      <th>Country Code</th>\n",
       "      <th>Indicator Name</th>\n",
       "      <th>Indicator Code</th>\n",
       "      <th>1960</th>\n",
       "      <th>1961</th>\n",
       "      <th>1962</th>\n",
       "      <th>1963</th>\n",
       "      <th>1964</th>\n",
       "      <th>1965</th>\n",
       "      <th>...</th>\n",
       "      <th>2005</th>\n",
       "      <th>2006</th>\n",
       "      <th>2007</th>\n",
       "      <th>2008</th>\n",
       "      <th>2009</th>\n",
       "      <th>2010</th>\n",
       "      <th>2011</th>\n",
       "      <th>2012</th>\n",
       "      <th>2013</th>\n",
       "      <th>2014</th>\n",
       "    </tr>\n",
       "  </thead>\n",
       "  <tbody>\n",
       "    <tr>\n",
       "      <th>4</th>\n",
       "      <td>Aruba</td>\n",
       "      <td>ABW</td>\n",
       "      <td>CO2 emissions (metric tons per capita)</td>\n",
       "      <td>EN.ATM.CO2E.PC</td>\n",
       "      <td>NaN</td>\n",
       "      <td>NaN</td>\n",
       "      <td>NaN</td>\n",
       "      <td>NaN</td>\n",
       "      <td>NaN</td>\n",
       "      <td>NaN</td>\n",
       "      <td>...</td>\n",
       "      <td>27.200708</td>\n",
       "      <td>26.948260</td>\n",
       "      <td>27.895574</td>\n",
       "      <td>26.230847</td>\n",
       "      <td>25.915833</td>\n",
       "      <td>24.670529</td>\n",
       "      <td>24.505835</td>\n",
       "      <td>13.155542</td>\n",
       "      <td>8.351294</td>\n",
       "      <td>8.408363</td>\n",
       "    </tr>\n",
       "    <tr>\n",
       "      <th>5</th>\n",
       "      <td>Afghanistan</td>\n",
       "      <td>AFG</td>\n",
       "      <td>CO2 emissions (metric tons per capita)</td>\n",
       "      <td>EN.ATM.CO2E.PC</td>\n",
       "      <td>0.04606</td>\n",
       "      <td>0.053604</td>\n",
       "      <td>0.073765</td>\n",
       "      <td>0.074233</td>\n",
       "      <td>0.086292</td>\n",
       "      <td>0.101467</td>\n",
       "      <td>...</td>\n",
       "      <td>0.052948</td>\n",
       "      <td>0.063728</td>\n",
       "      <td>0.085418</td>\n",
       "      <td>0.154101</td>\n",
       "      <td>0.241723</td>\n",
       "      <td>0.293837</td>\n",
       "      <td>0.412017</td>\n",
       "      <td>0.350371</td>\n",
       "      <td>0.315602</td>\n",
       "      <td>0.299445</td>\n",
       "    </tr>\n",
       "  </tbody>\n",
       "</table>\n",
       "<p>2 rows × 59 columns</p>\n",
       "</div>"
      ],
      "text/plain": [
       "  Country Name Country Code                          Indicator Name  \\\n",
       "4        Aruba          ABW  CO2 emissions (metric tons per capita)   \n",
       "5  Afghanistan          AFG  CO2 emissions (metric tons per capita)   \n",
       "\n",
       "   Indicator Code     1960      1961      1962      1963      1964      1965  \\\n",
       "4  EN.ATM.CO2E.PC      NaN       NaN       NaN       NaN       NaN       NaN   \n",
       "5  EN.ATM.CO2E.PC  0.04606  0.053604  0.073765  0.074233  0.086292  0.101467   \n",
       "\n",
       "   ...       2005       2006       2007       2008       2009       2010  \\\n",
       "4  ...  27.200708  26.948260  27.895574  26.230847  25.915833  24.670529   \n",
       "5  ...   0.052948   0.063728   0.085418   0.154101   0.241723   0.293837   \n",
       "\n",
       "        2011       2012      2013      2014  \n",
       "4  24.505835  13.155542  8.351294  8.408363  \n",
       "5   0.412017   0.350371  0.315602  0.299445  \n",
       "\n",
       "[2 rows x 59 columns]"
      ]
     },
     "execution_count": 9,
     "metadata": {},
     "output_type": "execute_result"
    }
   ],
   "source": [
    "df.head(2)"
   ]
  },
  {
   "cell_type": "code",
   "execution_count": null,
   "id": "56630910",
   "metadata": {},
   "outputs": [],
   "source": []
  }
 ],
 "metadata": {
  "kernelspec": {
   "display_name": "ironhack",
   "language": "python",
   "name": "ironhack"
  },
  "language_info": {
   "codemirror_mode": {
    "name": "ipython",
    "version": 3
   },
   "file_extension": ".py",
   "mimetype": "text/x-python",
   "name": "python",
   "nbconvert_exporter": "python",
   "pygments_lexer": "ipython3",
   "version": "3.8.5"
  },
  "toc": {
   "base_numbering": 1,
   "nav_menu": {},
   "number_sections": true,
   "sideBar": true,
   "skip_h1_title": false,
   "title_cell": "Table of Contents",
   "title_sidebar": "Contents",
   "toc_cell": false,
   "toc_position": {},
   "toc_section_display": true,
   "toc_window_display": false
  }
 },
 "nbformat": 4,
 "nbformat_minor": 5
}
