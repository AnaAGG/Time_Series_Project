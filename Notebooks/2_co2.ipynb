{
 "cells": [
  {
   "cell_type": "markdown",
   "id": "b48cb1d8",
   "metadata": {
    "toc": true
   },
   "source": [
    "<h1>Table of Contents<span class=\"tocSkip\"></span></h1>\n",
    "<div class=\"toc\"><ul class=\"toc-item\"><li><span><a href=\"#Import-libraries\" data-toc-modified-id=\"Import-libraries-1\"><span class=\"toc-item-num\">1&nbsp;&nbsp;</span>Import libraries</a></span></li><li><span><a href=\"#General-info\" data-toc-modified-id=\"General-info-2\"><span class=\"toc-item-num\">2&nbsp;&nbsp;</span>General info</a></span></li><li><span><a href=\"#Load-data-and-cleaning\" data-toc-modified-id=\"Load-data-and-cleaning-3\"><span class=\"toc-item-num\">3&nbsp;&nbsp;</span>Load data and cleaning</a></span></li><li><span><a href=\"#Visualization\" data-toc-modified-id=\"Visualization-4\"><span class=\"toc-item-num\">4&nbsp;&nbsp;</span>Visualization</a></span></li></ul></div>"
   ]
  },
  {
   "cell_type": "markdown",
   "id": "6cca6af8",
   "metadata": {},
   "source": [
    "# Import libraries"
   ]
  },
  {
   "cell_type": "code",
   "execution_count": 2,
   "id": "6806e69c",
   "metadata": {},
   "outputs": [],
   "source": [
    "import sys\n",
    "sys.path.append('../')\n",
    "\n",
    "import pandas as pd\n",
    "import src.cleaning as cl"
   ]
  },
  {
   "cell_type": "markdown",
   "id": "a48cd047",
   "metadata": {},
   "source": [
    "# General info"
   ]
  },
  {
   "cell_type": "markdown",
   "id": "72876aba",
   "metadata": {},
   "source": [
    "The CO₂ gives us the average CO₂ emissions (in metric tons) per person. The dataset is divided up by countries and other categories such as ‘World’ or ‘Upper middle income’, in this tutorial we are only interested in ‘World’ as we are looking at things on a global scale.\n",
    "\n",
    "For more info [here](https://data.worldbank.org/indicator/EN.ATM.CO2E.PC)"
   ]
  },
  {
   "cell_type": "markdown",
   "id": "c81f97ec",
   "metadata": {},
   "source": [
    "https://towardsdatascience.com/time-series-analysis-and-climate-change-7bb4371021e"
   ]
  },
  {
   "cell_type": "markdown",
   "id": "fc21d52b",
   "metadata": {},
   "source": [
    "# Load data and cleaning "
   ]
  },
  {
   "cell_type": "code",
   "execution_count": 3,
   "id": "aed30d60",
   "metadata": {},
   "outputs": [
    {
     "data": {
      "text/html": [
       "<div>\n",
       "<style scoped>\n",
       "    .dataframe tbody tr th:only-of-type {\n",
       "        vertical-align: middle;\n",
       "    }\n",
       "\n",
       "    .dataframe tbody tr th {\n",
       "        vertical-align: top;\n",
       "    }\n",
       "\n",
       "    .dataframe thead th {\n",
       "        text-align: right;\n",
       "    }\n",
       "</style>\n",
       "<table border=\"1\" class=\"dataframe\">\n",
       "  <thead>\n",
       "    <tr style=\"text-align: right;\">\n",
       "      <th></th>\n",
       "      <th>Data Source</th>\n",
       "      <th>World Development Indicators</th>\n",
       "      <th>Unnamed: 2</th>\n",
       "      <th>Unnamed: 3</th>\n",
       "      <th>Unnamed: 4</th>\n",
       "      <th>Unnamed: 5</th>\n",
       "      <th>Unnamed: 6</th>\n",
       "      <th>Unnamed: 7</th>\n",
       "      <th>Unnamed: 8</th>\n",
       "      <th>Unnamed: 9</th>\n",
       "      <th>...</th>\n",
       "      <th>Unnamed: 54</th>\n",
       "      <th>Unnamed: 55</th>\n",
       "      <th>Unnamed: 56</th>\n",
       "      <th>Unnamed: 57</th>\n",
       "      <th>Unnamed: 58</th>\n",
       "      <th>Unnamed: 59</th>\n",
       "      <th>Unnamed: 60</th>\n",
       "      <th>Unnamed: 61</th>\n",
       "      <th>Unnamed: 62</th>\n",
       "      <th>Unnamed: 63</th>\n",
       "    </tr>\n",
       "  </thead>\n",
       "  <tbody>\n",
       "    <tr>\n",
       "      <th>0</th>\n",
       "      <td>NaN</td>\n",
       "      <td>NaN</td>\n",
       "      <td>NaN</td>\n",
       "      <td>NaN</td>\n",
       "      <td>NaN</td>\n",
       "      <td>NaN</td>\n",
       "      <td>NaN</td>\n",
       "      <td>NaN</td>\n",
       "      <td>NaN</td>\n",
       "      <td>NaN</td>\n",
       "      <td>...</td>\n",
       "      <td>NaN</td>\n",
       "      <td>NaN</td>\n",
       "      <td>NaN</td>\n",
       "      <td>NaN</td>\n",
       "      <td>NaN</td>\n",
       "      <td>NaN</td>\n",
       "      <td>NaN</td>\n",
       "      <td>NaN</td>\n",
       "      <td>NaN</td>\n",
       "      <td>NaN</td>\n",
       "    </tr>\n",
       "  </tbody>\n",
       "</table>\n",
       "<p>1 rows × 64 columns</p>\n",
       "</div>"
      ],
      "text/plain": [
       "  Data Source World Development Indicators Unnamed: 2 Unnamed: 3  Unnamed: 4  \\\n",
       "0         NaN                          NaN        NaN        NaN         NaN   \n",
       "\n",
       "   Unnamed: 5  Unnamed: 6  Unnamed: 7  Unnamed: 8  Unnamed: 9  ...  \\\n",
       "0         NaN         NaN         NaN         NaN         NaN  ...   \n",
       "\n",
       "   Unnamed: 54  Unnamed: 55  Unnamed: 56  Unnamed: 57  Unnamed: 58  \\\n",
       "0          NaN          NaN          NaN          NaN          NaN   \n",
       "\n",
       "   Unnamed: 59  Unnamed: 60  Unnamed: 61  Unnamed: 62  Unnamed: 63  \n",
       "0          NaN          NaN          NaN          NaN          NaN  \n",
       "\n",
       "[1 rows x 64 columns]"
      ]
     },
     "execution_count": 3,
     "metadata": {},
     "output_type": "execute_result"
    }
   ],
   "source": [
    "df_1 = pd.read_csv(\"../Data/co2.csv\", sep=';')\n",
    "df_1.head(1)"
   ]
  },
  {
   "cell_type": "code",
   "execution_count": 4,
   "id": "5256ac1a",
   "metadata": {},
   "outputs": [
    {
     "data": {
      "text/html": [
       "<div>\n",
       "<style scoped>\n",
       "    .dataframe tbody tr th:only-of-type {\n",
       "        vertical-align: middle;\n",
       "    }\n",
       "\n",
       "    .dataframe tbody tr th {\n",
       "        vertical-align: top;\n",
       "    }\n",
       "\n",
       "    .dataframe thead th {\n",
       "        text-align: right;\n",
       "    }\n",
       "</style>\n",
       "<table border=\"1\" class=\"dataframe\">\n",
       "  <thead>\n",
       "    <tr style=\"text-align: right;\">\n",
       "      <th></th>\n",
       "      <th>Country Name</th>\n",
       "      <th>Country Code</th>\n",
       "      <th>1960</th>\n",
       "      <th>1961</th>\n",
       "      <th>1962</th>\n",
       "      <th>1963</th>\n",
       "      <th>1964</th>\n",
       "      <th>1965</th>\n",
       "      <th>1966</th>\n",
       "      <th>1967</th>\n",
       "      <th>...</th>\n",
       "      <th>2005</th>\n",
       "      <th>2006</th>\n",
       "      <th>2007</th>\n",
       "      <th>2008</th>\n",
       "      <th>2009</th>\n",
       "      <th>2010</th>\n",
       "      <th>2011</th>\n",
       "      <th>2012</th>\n",
       "      <th>2013</th>\n",
       "      <th>2014</th>\n",
       "    </tr>\n",
       "  </thead>\n",
       "  <tbody>\n",
       "    <tr>\n",
       "      <th>4</th>\n",
       "      <td>Aruba</td>\n",
       "      <td>ABW</td>\n",
       "      <td>NaN</td>\n",
       "      <td>NaN</td>\n",
       "      <td>NaN</td>\n",
       "      <td>NaN</td>\n",
       "      <td>NaN</td>\n",
       "      <td>NaN</td>\n",
       "      <td>NaN</td>\n",
       "      <td>NaN</td>\n",
       "      <td>...</td>\n",
       "      <td>27.200708</td>\n",
       "      <td>26.94826</td>\n",
       "      <td>27.895574</td>\n",
       "      <td>26.230847</td>\n",
       "      <td>25.915833</td>\n",
       "      <td>24.670529</td>\n",
       "      <td>24.505835</td>\n",
       "      <td>13.155542</td>\n",
       "      <td>8.351294</td>\n",
       "      <td>8.408363</td>\n",
       "    </tr>\n",
       "  </tbody>\n",
       "</table>\n",
       "<p>1 rows × 57 columns</p>\n",
       "</div>"
      ],
      "text/plain": [
       "  Country Name Country Code  1960  1961  1962  1963  1964  1965  1966  1967  \\\n",
       "4        Aruba          ABW   NaN   NaN   NaN   NaN   NaN   NaN   NaN   NaN   \n",
       "\n",
       "   ...       2005      2006       2007       2008       2009       2010  \\\n",
       "4  ...  27.200708  26.94826  27.895574  26.230847  25.915833  24.670529   \n",
       "\n",
       "        2011       2012      2013      2014  \n",
       "4  24.505835  13.155542  8.351294  8.408363  \n",
       "\n",
       "[1 rows x 57 columns]"
      ]
     },
     "execution_count": 4,
     "metadata": {},
     "output_type": "execute_result"
    }
   ],
   "source": [
    "df_1 = cl.cleaning_co2_data(df_1)\n",
    "df_1.head(1)"
   ]
  },
  {
   "cell_type": "code",
   "execution_count": 5,
   "id": "5a0c2748",
   "metadata": {},
   "outputs": [],
   "source": [
    "df_1.to_csv(\"../Data/co2_def.csv\")"
   ]
  },
  {
   "cell_type": "markdown",
   "id": "9c748dea",
   "metadata": {},
   "source": [
    "# Visualization "
   ]
  },
  {
   "cell_type": "code",
   "execution_count": null,
   "id": "d543fb0d",
   "metadata": {},
   "outputs": [],
   "source": []
  }
 ],
 "metadata": {
  "kernelspec": {
   "display_name": "ironhack",
   "language": "python",
   "name": "ironhack"
  },
  "language_info": {
   "codemirror_mode": {
    "name": "ipython",
    "version": 3
   },
   "file_extension": ".py",
   "mimetype": "text/x-python",
   "name": "python",
   "nbconvert_exporter": "python",
   "pygments_lexer": "ipython3",
   "version": "3.8.13"
  },
  "toc": {
   "base_numbering": 1,
   "nav_menu": {},
   "number_sections": true,
   "sideBar": true,
   "skip_h1_title": false,
   "title_cell": "Table of Contents",
   "title_sidebar": "Contents",
   "toc_cell": true,
   "toc_position": {},
   "toc_section_display": true,
   "toc_window_display": false
  }
 },
 "nbformat": 4,
 "nbformat_minor": 5
}
